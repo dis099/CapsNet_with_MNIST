{
  "nbformat": 4,
  "nbformat_minor": 0,
  "metadata": {
    "colab": {
      "name": "Cifar10_GRAYSCALE_10epochs.ipynb",
      "provenance": []
    },
    "kernelspec": {
      "name": "python3",
      "display_name": "Python 3"
    }
  },
  "cells": [
    {
      "cell_type": "code",
      "metadata": {
        "id": "osqCl43YwQJ7",
        "colab_type": "code",
        "colab": {
          "base_uri": "https://localhost:8080/",
          "height": 63
        },
        "outputId": "8026d93b-b833-4d58-b9e7-46ea18d357b2"
      },
      "source": [
        "import tensorflow\n"
      ],
      "execution_count": 3,
      "outputs": [
        {
          "output_type": "display_data",
          "data": {
            "text/html": [
              "<p style=\"color: red;\">\n",
              "The default version of TensorFlow in Colab will switch to TensorFlow 2.x on the 27th of March, 2020.<br>\n",
              "We recommend you <a href=\"https://www.tensorflow.org/guide/migrate\" target=\"_blank\">upgrade</a> now\n",
              "or ensure your notebook will continue to use TensorFlow 1.x via the <code>%tensorflow_version 1.x</code> magic:\n",
              "<a href=\"https://colab.research.google.com/notebooks/tensorflow_version.ipynb\" target=\"_blank\">more info</a>.</p>\n"
            ],
            "text/plain": [
              "<IPython.core.display.HTML object>"
            ]
          },
          "metadata": {
            "tags": []
          }
        }
      ]
    },
    {
      "cell_type": "code",
      "metadata": {
        "id": "dNXtcfy1yWRD",
        "colab_type": "code",
        "colab": {
          "base_uri": "https://localhost:8080/",
          "height": 34
        },
        "outputId": "43707145-5653-4e93-9f64-aa5b9e6df23e"
      },
      "source": [
        "from keras import layers, models, optimizers\n",
        "from keras.layers import Input, Conv2D, Dense\n",
        "from keras.layers import Reshape, Layer, Lambda\n",
        "from keras.models import Model\n",
        "from keras.utils import to_categorical\n",
        "from keras import initializers\n",
        "from keras.optimizers import Adam\n",
        "from keras.datasets import mnist\n",
        "from keras import backend as K\n",
        "from keras.datasets import cifar10\n",
        "import matplotlib as plt\n",
        "from skimage.color import rgb2gray\n",
        "import cv2\n",
        "\n",
        "import matplotlib.pyplot as plt\n",
        "from skimage.color import rgb2gray\n",
        "from skimage import data\n",
        "\n",
        "\n",
        "import numpy as np\n",
        "import tensorflow as tf\n",
        "sess = tf.InteractiveSession()\n",
        "writer = tf.summary.FileWriter(\"c:\\logs\", sess.graph)\n",
        "\n",
        "\n",
        "def squash(output_vector, axis=-1):\n",
        "    norm = tf.reduce_sum(tf.square(output_vector), axis, keep_dims=True)\n",
        "    return output_vector * norm / ((1 + norm) * tf.sqrt(norm + 1.0e-10))\n",
        "\n",
        "class MaskingLayer(Layer):\n",
        "    def call(self, inputs, **kwargs):\n",
        "        input, mask = inputs\n",
        "        return K.batch_dot(input, mask, 1)\n",
        "\n",
        "    def compute_output_shape(self, input_shape):\n",
        "        *_, output_shape = input_shape[0]\n",
        "        return (None, output_shape)\n",
        "def PrimaryCapsule(n_vector, n_channel, n_kernel_size, n_stride, padding='valid'):\n",
        "    def builder(inputs):\n",
        "        output = Conv2D(filters=n_vector * n_channel, kernel_size=n_kernel_size, strides=n_stride, padding=padding)(inputs)\n",
        "        output = Reshape( target_shape=[-1, n_vector], name='primary_capsule_reshape')(output)\n",
        "        return Lambda(squash, name='primary_capsule_squash')(output)\n",
        "    return builder\n",
        "class CapsuleLayer(Layer):\n",
        "    def __init__(self, n_capsule, n_vec, n_routing, **kwargs):\n",
        "        super(CapsuleLayer, self).__init__(**kwargs)\n",
        "        self.n_capsule = n_capsule\n",
        "        self.n_vector = n_vec\n",
        "        self.n_routing = n_routing\n",
        "        self.kernel_initializer = initializers.get('he_normal')\n",
        "        self.bias_initializer = initializers.get('zeros')\n",
        "\n",
        "    def build(self, input_shape): # input_shape is a 4D tensor\n",
        "        _, self.input_n_capsule, self.input_n_vector, *_ = input_shape\n",
        "        self.W = self.add_weight(shape=[self.input_n_capsule, self.n_capsule, self.input_n_vector, self.n_vector], initializer=self.kernel_initializer, name='W')\n",
        "        self.bias = self.add_weight(shape=[1, self.input_n_capsule, self.n_capsule, 1, 1], initializer=self.bias_initializer, name='bias', trainable=False)\n",
        "        self.built = True\n",
        "\n",
        "    def call(self, inputs, training=None):\n",
        "        input_expand = tf.expand_dims(tf.expand_dims(inputs, 2), 2)\n",
        "        input_tiled = tf.tile(input_expand, [1, 1, self.n_capsule, 1, 1])\n",
        "        input_hat = tf.scan(lambda ac, x: K.batch_dot(x, self.W, [3, 2]), elems=input_tiled, initializer=K.zeros( [self.input_n_capsule, self.n_capsule, 1, self.n_vector]))\n",
        "        for i in range(self.n_routing): # routing\n",
        "            c = tf.nn.softmax(self.bias, dim=2)\n",
        "            outputs = squash(tf.reduce_sum( c * input_hat, axis=1, keep_dims=True))\n",
        "            if i != self.n_routing - 1:\n",
        "                self.bias += tf.reduce_sum(input_hat * outputs, axis=-1, keep_dims=True)\n",
        "        return tf.reshape(outputs, [-1, self.n_capsule, self.n_vector])\n",
        "\n",
        "    def compute_output_shape(self, input_shape):\n",
        "        # output current layer capsules\n",
        "        return (None, self.n_capsule, self.n_vector)\n",
        "class LengthLayer(Layer):\n",
        "    def call(self, inputs, **kwargs):\n",
        "        return tf.sqrt(tf.reduce_sum(tf.square(inputs), axis=-1, keep_dims=False))\n",
        "\n",
        "    def compute_output_shape(self, input_shape):\n",
        "        *output_shape, _ = input_shape\n",
        "        return tuple(output_shape)\n",
        "def margin_loss(y_ground_truth, y_prediction):\n",
        "    _m_plus = 0.9\n",
        "    _m_minus = 0.1\n",
        "    _lambda = 0.5\n",
        "    L = y_ground_truth * tf.square(tf.maximum(0., _m_plus - y_prediction)) + _lambda * ( 1 - y_ground_truth) * tf.square(tf.maximum(0., y_prediction - _m_minus))\n",
        "    return tf.reduce_mean(tf.reduce_sum(L, axis=1))\n"
      ],
      "execution_count": 4,
      "outputs": [
        {
          "output_type": "stream",
          "text": [
            "Using TensorFlow backend.\n"
          ],
          "name": "stderr"
        }
      ]
    },
    {
      "cell_type": "code",
      "metadata": {
        "id": "lHTdjv1eyb7c",
        "colab_type": "code",
        "colab": {
          "base_uri": "https://localhost:8080/",
          "height": 51
        },
        "outputId": "f5314708-97d0-4840-d5a6-a48b4f3f3dc6"
      },
      "source": [
        "(x_train, y_train), (x_test, y_test) = cifar10.load_data()\n",
        "\n",
        "\n",
        "x_train = x_train.reshape(-1, 32, 32, 3).astype('float32') / 255.0\n",
        "x_test = x_test.reshape(-1, 32, 32, 3).astype('float32') / 255.0\n",
        "y_train = to_categorical(y_train.astype('float32'))\n",
        "y_test = to_categorical(y_test.astype('float32'))\n",
        "\n"
      ],
      "execution_count": 5,
      "outputs": [
        {
          "output_type": "stream",
          "text": [
            "Downloading data from https://www.cs.toronto.edu/~kriz/cifar-10-python.tar.gz\n",
            "170500096/170498071 [==============================] - 5s 0us/step\n"
          ],
          "name": "stdout"
        }
      ]
    },
    {
      "cell_type": "code",
      "metadata": {
        "id": "lfHY1In5ye6A",
        "colab_type": "code",
        "colab": {}
      },
      "source": [
        "#Converting them to graysclae\n",
        "x_train = rgb2gray(x_train)\n",
        "x_test = rgb2gray(x_test)\n",
        "y_train = rgb2gray(y_train)\n",
        "y_test = rgb2gray(y_test)\n",
        "\n",
        "#Now concatenating the data\n",
        "X = np.concatenate((x_train, x_test), axis=0)\n",
        "Y = np.concatenate((y_train, y_test), axis=0)\n",
        "#Reshaping X to make it have same shape as expected by the network\n",
        "X = X.reshape(-1,32,32,1)"
      ],
      "execution_count": 0,
      "outputs": []
    },
    {
      "cell_type": "code",
      "metadata": {
        "id": "rUaEQjxNye8t",
        "colab_type": "code",
        "colab": {
          "base_uri": "https://localhost:8080/",
          "height": 272
        },
        "outputId": "e459fc13-ebb3-4afc-e43a-5c3ef39fe948"
      },
      "source": [
        "input_shape = [32, 32,1]\n",
        "n_class = 10\n",
        "n_routing = 3\n",
        "\n",
        "x = Input(shape=input_shape)\n",
        "conv1 = Conv2D(filters=256, kernel_size=9, strides=1, padding='valid', activation='relu', name='conv1')(x)\n",
        "primary_capsule = PrimaryCapsule( n_vector=8, n_channel=32, n_kernel_size=9, n_stride=2)(conv1)\n",
        "digit_capsule = CapsuleLayer( n_capsule=n_class, n_vec=16, n_routing=n_routing, name='digit_capsule')(primary_capsule)\n",
        "output_capsule = LengthLayer(name='output_capsule')(digit_capsule)\n",
        "\n",
        "mask_input = Input(shape=(n_class, ))\n",
        "mask = MaskingLayer()([digit_capsule, mask_input])  # two inputs\n",
        "dec = Dense(512, activation='relu')(mask)\n",
        "dec = Dense(1024, activation='relu')(dec)\n",
        "dec = Dense(1024, activation='sigmoid')(dec) #32x32 = 1024 pixels per image\n",
        "dec = Reshape(input_shape)(dec)"
      ],
      "execution_count": 7,
      "outputs": [
        {
          "output_type": "stream",
          "text": [
            "WARNING:tensorflow:From /usr/local/lib/python3.6/dist-packages/keras/backend/tensorflow_backend.py:74: The name tf.get_default_graph is deprecated. Please use tf.compat.v1.get_default_graph instead.\n",
            "\n",
            "WARNING:tensorflow:From /usr/local/lib/python3.6/dist-packages/keras/backend/tensorflow_backend.py:517: The name tf.placeholder is deprecated. Please use tf.compat.v1.placeholder instead.\n",
            "\n",
            "WARNING:tensorflow:From /usr/local/lib/python3.6/dist-packages/keras/backend/tensorflow_backend.py:4138: The name tf.random_uniform is deprecated. Please use tf.random.uniform instead.\n",
            "\n",
            "WARNING:tensorflow:From <ipython-input-4-6a51cc219464>:27: calling reduce_sum_v1 (from tensorflow.python.ops.math_ops) with keep_dims is deprecated and will be removed in a future version.\n",
            "Instructions for updating:\n",
            "keep_dims is deprecated, use keepdims instead\n",
            "WARNING:tensorflow:From /usr/local/lib/python3.6/dist-packages/keras/backend/tensorflow_backend.py:4185: The name tf.truncated_normal is deprecated. Please use tf.random.truncated_normal instead.\n",
            "\n",
            "WARNING:tensorflow:From <ipython-input-4-6a51cc219464>:64: calling softmax (from tensorflow.python.ops.nn_ops) with dim is deprecated and will be removed in a future version.\n",
            "Instructions for updating:\n",
            "dim is deprecated, use axis instead\n",
            "WARNING:tensorflow:Variable += will be deprecated. Use variable.assign_add if you want assignment to the variable value or 'x = x + y' if you want a new python Tensor object.\n"
          ],
          "name": "stdout"
        }
      ]
    },
    {
      "cell_type": "code",
      "metadata": {
        "id": "dgjGNKRezKxj",
        "colab_type": "code",
        "colab": {
          "base_uri": "https://localhost:8080/",
          "height": 411
        },
        "outputId": "c71ab90a-2f67-404d-ab51-fe9158742797"
      },
      "source": [
        "model = Model([x, mask_input], [output_capsule, dec])\n",
        "model.compile(optimizer='adam', loss=[ margin_loss, 'mae' ], metrics=[ margin_loss, 'mae', 'accuracy'])\n",
        "\n",
        "model.fit([X, Y], [Y, X], batch_size=128, epochs=10, validation_split=0.2)\n",
        "\n",
        "\n"
      ],
      "execution_count": 9,
      "outputs": [
        {
          "output_type": "stream",
          "text": [
            "Train on 48000 samples, validate on 12000 samples\n",
            "Epoch 1/10\n",
            "48000/48000 [==============================] - 3671s 76ms/step - loss: 0.6382 - output_capsule_loss: 0.4785 - reshape_1_loss: 0.1598 - output_capsule_margin_loss: 0.4785 - output_capsule_mean_absolute_error: 0.2717 - output_capsule_acc: 0.2704 - reshape_1_margin_loss: 3.7381 - reshape_1_mean_absolute_error: 0.1598 - reshape_1_acc: 0.0010 - val_loss: 0.5654 - val_output_capsule_loss: 0.4288 - val_reshape_1_loss: 0.1366 - val_output_capsule_margin_loss: 0.4288 - val_output_capsule_mean_absolute_error: 0.2579 - val_output_capsule_acc: 0.3639 - val_reshape_1_margin_loss: 3.4762 - val_reshape_1_mean_absolute_error: 0.1366 - val_reshape_1_acc: 0.0013\n",
            "Epoch 2/10\n",
            "48000/48000 [==============================] - 3574s 74ms/step - loss: 0.5416 - output_capsule_loss: 0.4115 - reshape_1_loss: 0.1300 - output_capsule_margin_loss: 0.4115 - output_capsule_mean_absolute_error: 0.2529 - output_capsule_acc: 0.3944 - reshape_1_margin_loss: 3.5435 - reshape_1_mean_absolute_error: 0.1300 - reshape_1_acc: 0.0011 - val_loss: 0.5224 - val_output_capsule_loss: 0.3973 - val_reshape_1_loss: 0.1252 - val_output_capsule_margin_loss: 0.3973 - val_output_capsule_mean_absolute_error: 0.2472 - val_output_capsule_acc: 0.4212 - val_reshape_1_margin_loss: 3.4899 - val_reshape_1_mean_absolute_error: 0.1252 - val_reshape_1_acc: 0.0013\n",
            "Epoch 3/10\n",
            "48000/48000 [==============================] - 3639s 76ms/step - loss: 0.5083 - output_capsule_loss: 0.3858 - reshape_1_loss: 0.1224 - output_capsule_margin_loss: 0.3858 - output_capsule_mean_absolute_error: 0.2462 - output_capsule_acc: 0.4443 - reshape_1_margin_loss: 3.4953 - reshape_1_mean_absolute_error: 0.1224 - reshape_1_acc: 0.0011 - val_loss: 0.4960 - val_output_capsule_loss: 0.3778 - val_reshape_1_loss: 0.1181 - val_output_capsule_margin_loss: 0.3778 - val_output_capsule_mean_absolute_error: 0.2494 - val_output_capsule_acc: 0.4542 - val_reshape_1_margin_loss: 3.3796 - val_reshape_1_mean_absolute_error: 0.1181 - val_reshape_1_acc: 0.0013\n",
            "Epoch 4/10\n",
            "48000/48000 [==============================] - 3590s 75ms/step - loss: 0.4840 - output_capsule_loss: 0.3654 - reshape_1_loss: 0.1186 - output_capsule_margin_loss: 0.3654 - output_capsule_mean_absolute_error: 0.2405 - output_capsule_acc: 0.4807 - reshape_1_margin_loss: 3.4746 - reshape_1_mean_absolute_error: 0.1186 - reshape_1_acc: 0.0011 - val_loss: 0.4810 - val_output_capsule_loss: 0.3643 - val_reshape_1_loss: 0.1167 - val_output_capsule_margin_loss: 0.3643 - val_output_capsule_mean_absolute_error: 0.2388 - val_output_capsule_acc: 0.4777 - val_reshape_1_margin_loss: 3.5784 - val_reshape_1_mean_absolute_error: 0.1167 - val_reshape_1_acc: 0.0013\n",
            "Epoch 5/10\n",
            "48000/48000 [==============================] - 3557s 74ms/step - loss: 0.4638 - output_capsule_loss: 0.3478 - reshape_1_loss: 0.1161 - output_capsule_margin_loss: 0.3478 - output_capsule_mean_absolute_error: 0.2353 - output_capsule_acc: 0.5108 - reshape_1_margin_loss: 3.4608 - reshape_1_mean_absolute_error: 0.1161 - reshape_1_acc: 0.0011 - val_loss: 0.4671 - val_output_capsule_loss: 0.3534 - val_reshape_1_loss: 0.1137 - val_output_capsule_margin_loss: 0.3534 - val_output_capsule_mean_absolute_error: 0.2337 - val_output_capsule_acc: 0.4991 - val_reshape_1_margin_loss: 3.4327 - val_reshape_1_mean_absolute_error: 0.1137 - val_reshape_1_acc: 0.0013\n",
            "Epoch 6/10\n",
            "48000/48000 [==============================] - 3534s 74ms/step - loss: 0.4473 - output_capsule_loss: 0.3325 - reshape_1_loss: 0.1148 - output_capsule_margin_loss: 0.3325 - output_capsule_mean_absolute_error: 0.2313 - output_capsule_acc: 0.5397 - reshape_1_margin_loss: 3.4521 - reshape_1_mean_absolute_error: 0.1148 - reshape_1_acc: 0.0011 - val_loss: 0.4549 - val_output_capsule_loss: 0.3410 - val_reshape_1_loss: 0.1139 - val_output_capsule_margin_loss: 0.3410 - val_output_capsule_mean_absolute_error: 0.2238 - val_output_capsule_acc: 0.5313 - val_reshape_1_margin_loss: 3.4605 - val_reshape_1_mean_absolute_error: 0.1139 - val_reshape_1_acc: 0.0013\n",
            "Epoch 7/10\n",
            "48000/48000 [==============================] - 3575s 74ms/step - loss: 0.4344 - output_capsule_loss: 0.3208 - reshape_1_loss: 0.1136 - output_capsule_margin_loss: 0.3208 - output_capsule_mean_absolute_error: 0.2279 - output_capsule_acc: 0.5621 - reshape_1_margin_loss: 3.4457 - reshape_1_mean_absolute_error: 0.1136 - reshape_1_acc: 0.0011 - val_loss: 0.4465 - val_output_capsule_loss: 0.3338 - val_reshape_1_loss: 0.1127 - val_output_capsule_margin_loss: 0.3338 - val_output_capsule_mean_absolute_error: 0.2346 - val_output_capsule_acc: 0.5387 - val_reshape_1_margin_loss: 3.3980 - val_reshape_1_mean_absolute_error: 0.1127 - val_reshape_1_acc: 0.0013\n",
            "Epoch 8/10\n",
            "48000/48000 [==============================] - 3675s 77ms/step - loss: 0.4191 - output_capsule_loss: 0.3069 - reshape_1_loss: 0.1122 - output_capsule_margin_loss: 0.3069 - output_capsule_mean_absolute_error: 0.2237 - output_capsule_acc: 0.5850 - reshape_1_margin_loss: 3.4383 - reshape_1_mean_absolute_error: 0.1122 - reshape_1_acc: 0.0011 - val_loss: 0.4353 - val_output_capsule_loss: 0.3222 - val_reshape_1_loss: 0.1130 - val_output_capsule_margin_loss: 0.3222 - val_output_capsule_mean_absolute_error: 0.2242 - val_output_capsule_acc: 0.5522 - val_reshape_1_margin_loss: 3.4393 - val_reshape_1_mean_absolute_error: 0.1130 - val_reshape_1_acc: 0.0013\n",
            "Epoch 9/10\n",
            "48000/48000 [==============================] - 3674s 77ms/step - loss: 0.4068 - output_capsule_loss: 0.2950 - reshape_1_loss: 0.1117 - output_capsule_margin_loss: 0.2950 - output_capsule_mean_absolute_error: 0.2201 - output_capsule_acc: 0.6075 - reshape_1_margin_loss: 3.4341 - reshape_1_mean_absolute_error: 0.1117 - reshape_1_acc: 0.0011 - val_loss: 0.4272 - val_output_capsule_loss: 0.3130 - val_reshape_1_loss: 0.1142 - val_output_capsule_margin_loss: 0.3130 - val_output_capsule_mean_absolute_error: 0.2190 - val_output_capsule_acc: 0.5719 - val_reshape_1_margin_loss: 3.3439 - val_reshape_1_mean_absolute_error: 0.1142 - val_reshape_1_acc: 0.0013\n",
            "Epoch 10/10\n",
            "48000/48000 [==============================] - 3670s 76ms/step - loss: 0.3963 - output_capsule_loss: 0.2849 - reshape_1_loss: 0.1114 - output_capsule_margin_loss: 0.2849 - output_capsule_mean_absolute_error: 0.2170 - output_capsule_acc: 0.6246 - reshape_1_margin_loss: 3.4323 - reshape_1_mean_absolute_error: 0.1114 - reshape_1_acc: 0.0011 - val_loss: 0.4239 - val_output_capsule_loss: 0.3112 - val_reshape_1_loss: 0.1128 - val_output_capsule_margin_loss: 0.3112 - val_output_capsule_mean_absolute_error: 0.2200 - val_output_capsule_acc: 0.5721 - val_reshape_1_margin_loss: 3.3726 - val_reshape_1_mean_absolute_error: 0.1128 - val_reshape_1_acc: 0.0013\n"
          ],
          "name": "stdout"
        },
        {
          "output_type": "execute_result",
          "data": {
            "text/plain": [
              "<keras.callbacks.History at 0x7fc080c72e48>"
            ]
          },
          "metadata": {
            "tags": []
          },
          "execution_count": 9
        }
      ]
    },
    {
      "cell_type": "code",
      "metadata": {
        "id": "n-oBTLNXyb6G",
        "colab_type": "code",
        "colab": {
          "base_uri": "https://localhost:8080/",
          "height": 163
        },
        "outputId": "6e3647a1-61b2-43b8-8748-7f2311e31de0"
      },
      "source": [
        "#model.save('CapsNet_Cifar10_routing3_grayscale.h5')\n",
        "model.summary()"
      ],
      "execution_count": 2,
      "outputs": [
        {
          "output_type": "error",
          "ename": "NameError",
          "evalue": "ignored",
          "traceback": [
            "\u001b[0;31m---------------------------------------------------------------------------\u001b[0m",
            "\u001b[0;31mNameError\u001b[0m                                 Traceback (most recent call last)",
            "\u001b[0;32m<ipython-input-2-5f15418b3570>\u001b[0m in \u001b[0;36m<module>\u001b[0;34m()\u001b[0m\n\u001b[0;32m----> 1\u001b[0;31m \u001b[0mmodel\u001b[0m\u001b[0;34m.\u001b[0m\u001b[0msummary\u001b[0m\u001b[0;34m(\u001b[0m\u001b[0;34m)\u001b[0m\u001b[0;34m\u001b[0m\u001b[0;34m\u001b[0m\u001b[0m\n\u001b[0m",
            "\u001b[0;31mNameError\u001b[0m: name 'model' is not defined"
          ]
        }
      ]
    },
    {
      "cell_type": "code",
      "metadata": {
        "id": "TsbNRj3F9XLR",
        "colab_type": "code",
        "colab": {}
      },
      "source": [
        ""
      ],
      "execution_count": 0,
      "outputs": []
    }
  ]
}