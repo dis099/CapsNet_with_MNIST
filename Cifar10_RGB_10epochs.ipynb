{
  "nbformat": 4,
  "nbformat_minor": 0,
  "metadata": {
    "colab": {
      "name": "Cifar10_RGB_10epochs.ipynb",
      "provenance": []
    },
    "kernelspec": {
      "name": "python3",
      "display_name": "Python 3"
    }
  },
  "cells": [
    {
      "cell_type": "code",
      "metadata": {
        "id": "A2S3aBGUysHV",
        "colab_type": "code",
        "colab": {
          "base_uri": "https://localhost:8080/",
          "height": 63
        },
        "outputId": "ee918c3b-1665-4b58-801e-9c4e3c022e64"
      },
      "source": [
        "import tensorflow as tf"
      ],
      "execution_count": 3,
      "outputs": [
        {
          "output_type": "display_data",
          "data": {
            "text/html": [
              "<p style=\"color: red;\">\n",
              "The default version of TensorFlow in Colab will switch to TensorFlow 2.x on the 27th of March, 2020.<br>\n",
              "We recommend you <a href=\"https://www.tensorflow.org/guide/migrate\" target=\"_blank\">upgrade</a> now\n",
              "or ensure your notebook will continue to use TensorFlow 1.x via the <code>%tensorflow_version 1.x</code> magic:\n",
              "<a href=\"https://colab.research.google.com/notebooks/tensorflow_version.ipynb\" target=\"_blank\">more info</a>.</p>\n"
            ],
            "text/plain": [
              "<IPython.core.display.HTML object>"
            ]
          },
          "metadata": {
            "tags": []
          }
        }
      ]
    },
    {
      "cell_type": "code",
      "metadata": {
        "id": "a4a7YCO1zWau",
        "colab_type": "code",
        "colab": {
          "base_uri": "https://localhost:8080/",
          "height": 34
        },
        "outputId": "40eec65b-ce16-4c69-d782-7ce1b759d91a"
      },
      "source": [
        "from keras import layers, models, optimizers\n",
        "from keras.layers import Input, Conv2D, Dense\n",
        "from keras.layers import Reshape, Layer, Lambda\n",
        "from keras.models import Model\n",
        "from keras.utils import to_categorical\n",
        "from keras import initializers\n",
        "from keras.optimizers import Adam\n",
        "from keras.datasets import mnist\n",
        "from keras import backend as K\n",
        "from keras.datasets import cifar10\n",
        "\n",
        "import numpy as np\n",
        "import tensorflow as tf\n",
        "sess = tf.InteractiveSession()\n",
        "writer = tf.summary.FileWriter(\"c:\\logs\", sess.graph)\n",
        "\n",
        "def squash(output_vector, axis=-1):\n",
        "    norm = tf.reduce_sum(tf.square(output_vector), axis, keep_dims=True)\n",
        "    return output_vector * norm / ((1 + norm) * tf.sqrt(norm + 1.0e-10))\n",
        "\n",
        "class MaskingLayer(Layer):\n",
        "    def call(self, inputs, **kwargs):\n",
        "        input, mask = inputs\n",
        "        return K.batch_dot(input, mask, 1)\n",
        "\n",
        "    def compute_output_shape(self, input_shape):\n",
        "        *_, output_shape = input_shape[0]\n",
        "        return (None, output_shape)\n",
        "def PrimaryCapsule(n_vector, n_channel, n_kernel_size, n_stride, padding='valid'):\n",
        "    def builder(inputs):\n",
        "        output = Conv2D(filters=n_vector * n_channel, kernel_size=n_kernel_size, strides=n_stride, padding=padding)(inputs)\n",
        "        output = Reshape( target_shape=[-1, n_vector], name='primary_capsule_reshape')(output)\n",
        "        return Lambda(squash, name='primary_capsule_squash')(output)\n",
        "    return builder\n",
        "class CapsuleLayer(Layer):\n",
        "    def __init__(self, n_capsule, n_vec, n_routing, **kwargs):\n",
        "        super(CapsuleLayer, self).__init__(**kwargs)\n",
        "        self.n_capsule = n_capsule\n",
        "        self.n_vector = n_vec\n",
        "        self.n_routing = n_routing\n",
        "        self.kernel_initializer = initializers.get('he_normal')\n",
        "        self.bias_initializer = initializers.get('zeros')\n",
        "\n",
        "    def build(self, input_shape): # input_shape is a 4D tensor\n",
        "        _, self.input_n_capsule, self.input_n_vector, *_ = input_shape\n",
        "        self.W = self.add_weight(shape=[self.input_n_capsule, self.n_capsule, self.input_n_vector, self.n_vector], initializer=self.kernel_initializer, name='W')\n",
        "        self.bias = self.add_weight(shape=[1, self.input_n_capsule, self.n_capsule, 1, 1], initializer=self.bias_initializer, name='bias', trainable=False)\n",
        "        self.built = True\n",
        "\n",
        "    def call(self, inputs, training=None):\n",
        "        input_expand = tf.expand_dims(tf.expand_dims(inputs, 2), 2)\n",
        "        input_tiled = tf.tile(input_expand, [1, 1, self.n_capsule, 1, 1])\n",
        "        input_hat = tf.scan(lambda ac, x: K.batch_dot(x, self.W, [3, 2]), elems=input_tiled, initializer=K.zeros( [self.input_n_capsule, self.n_capsule, 1, self.n_vector]))\n",
        "        for i in range(self.n_routing): # routing\n",
        "            c = tf.nn.softmax(self.bias, dim=2)\n",
        "            outputs = squash(tf.reduce_sum( c * input_hat, axis=1, keep_dims=True))\n",
        "            if i != self.n_routing - 1:\n",
        "                self.bias += tf.reduce_sum(input_hat * outputs, axis=-1, keep_dims=True)\n",
        "        return tf.reshape(outputs, [-1, self.n_capsule, self.n_vector])\n",
        "\n",
        "    def compute_output_shape(self, input_shape):\n",
        "        # output current layer capsules\n",
        "        return (None, self.n_capsule, self.n_vector)\n",
        "class LengthLayer(Layer):\n",
        "    def call(self, inputs, **kwargs):\n",
        "        return tf.sqrt(tf.reduce_sum(tf.square(inputs), axis=-1, keep_dims=False))\n",
        "\n",
        "    def compute_output_shape(self, input_shape):\n",
        "        *output_shape, _ = input_shape\n",
        "        return tuple(output_shape)\n",
        "def margin_loss(y_ground_truth, y_prediction):\n",
        "    _m_plus = 0.9\n",
        "    _m_minus = 0.1\n",
        "    _lambda = 0.5\n",
        "    L = y_ground_truth * tf.square(tf.maximum(0., _m_plus - y_prediction)) + _lambda * ( 1 - y_ground_truth) * tf.square(tf.maximum(0., y_prediction - _m_minus))\n",
        "    return tf.reduce_mean(tf.reduce_sum(L, axis=1))\n"
      ],
      "execution_count": 4,
      "outputs": [
        {
          "output_type": "stream",
          "text": [
            "Using TensorFlow backend.\n"
          ],
          "name": "stderr"
        }
      ]
    },
    {
      "cell_type": "code",
      "metadata": {
        "id": "l7Dj5FVgzWsp",
        "colab_type": "code",
        "colab": {
          "base_uri": "https://localhost:8080/",
          "height": 51
        },
        "outputId": "a4dee44d-cea6-4422-eb77-eb6575f61b92"
      },
      "source": [
        "(x_train, y_train), (x_test, y_test) = cifar10.load_data()"
      ],
      "execution_count": 5,
      "outputs": [
        {
          "output_type": "stream",
          "text": [
            "Downloading data from https://www.cs.toronto.edu/~kriz/cifar-10-python.tar.gz\n",
            "170500096/170498071 [==============================] - 2s 0us/step\n"
          ],
          "name": "stdout"
        }
      ]
    },
    {
      "cell_type": "code",
      "metadata": {
        "id": "9ayIGpgTzfyo",
        "colab_type": "code",
        "colab": {
          "base_uri": "https://localhost:8080/",
          "height": 85
        },
        "outputId": "c1be11d0-066f-4caa-b72e-4403f2c59fa6"
      },
      "source": [
        "print(x_train.shape)\n",
        "print(x_test.shape)\n",
        "print(y_train.shape)\n",
        "print(y_test.shape)"
      ],
      "execution_count": 6,
      "outputs": [
        {
          "output_type": "stream",
          "text": [
            "(50000, 32, 32, 3)\n",
            "(10000, 32, 32, 3)\n",
            "(50000, 1)\n",
            "(10000, 1)\n"
          ],
          "name": "stdout"
        }
      ]
    },
    {
      "cell_type": "code",
      "metadata": {
        "id": "D8g5lBOazf16",
        "colab_type": "code",
        "colab": {}
      },
      "source": [
        "x_train = x_train.reshape(-1, 32, 32, 3).astype('float32') / 255.0\n",
        "x_test = x_test.reshape(-1, 32, 32, 3).astype('float32') / 255.0\n",
        "\n",
        "y_train = to_categorical(y_train.astype('float32'))\n",
        "y_test = to_categorical(y_test.astype('float32'))\n",
        "X = np.concatenate((x_train, x_test), axis=0)\n",
        "Y = np.concatenate((y_train, y_test), axis=0)\n"
      ],
      "execution_count": 0,
      "outputs": []
    },
    {
      "cell_type": "code",
      "metadata": {
        "id": "qh0XYKCFzkm3",
        "colab_type": "code",
        "colab": {}
      },
      "source": [
        "input_shape = [32, 32, 3]\n",
        "n_class = 10\n",
        "n_routing = 3\n",
        "\n"
      ],
      "execution_count": 0,
      "outputs": []
    },
    {
      "cell_type": "code",
      "metadata": {
        "id": "eDbyyd9Azn_I",
        "colab_type": "code",
        "colab": {
          "base_uri": "https://localhost:8080/",
          "height": 119
        },
        "outputId": "dadd7ae5-a75e-4ae8-a7d5-e1de30ffd322"
      },
      "source": [
        "x = Input(shape=input_shape)\n",
        "conv1 = Conv2D(filters=256, kernel_size=9, strides=1, padding='valid', activation='relu', name='conv1')(x)\n",
        "\n"
      ],
      "execution_count": 9,
      "outputs": [
        {
          "output_type": "stream",
          "text": [
            "WARNING:tensorflow:From /usr/local/lib/python3.6/dist-packages/keras/backend/tensorflow_backend.py:74: The name tf.get_default_graph is deprecated. Please use tf.compat.v1.get_default_graph instead.\n",
            "\n",
            "WARNING:tensorflow:From /usr/local/lib/python3.6/dist-packages/keras/backend/tensorflow_backend.py:517: The name tf.placeholder is deprecated. Please use tf.compat.v1.placeholder instead.\n",
            "\n",
            "WARNING:tensorflow:From /usr/local/lib/python3.6/dist-packages/keras/backend/tensorflow_backend.py:4138: The name tf.random_uniform is deprecated. Please use tf.random.uniform instead.\n",
            "\n"
          ],
          "name": "stdout"
        }
      ]
    },
    {
      "cell_type": "code",
      "metadata": {
        "id": "COSk3qJ0zoFt",
        "colab_type": "code",
        "colab": {
          "base_uri": "https://localhost:8080/",
          "height": 170
        },
        "outputId": "4b85fae9-7ad5-431d-b0bd-e6f2a87fde99"
      },
      "source": [
        "primary_capsule = PrimaryCapsule( n_vector=8, n_channel=32, n_kernel_size=9, n_stride=2)(conv1)\n",
        "digit_capsule = CapsuleLayer( n_capsule=n_class, n_vec=16, n_routing=n_routing, name='digit_capsule')(primary_capsule)\n",
        "output_capsule = LengthLayer(name='output_capsule')(digit_capsule)\n",
        "\n"
      ],
      "execution_count": 10,
      "outputs": [
        {
          "output_type": "stream",
          "text": [
            "WARNING:tensorflow:From <ipython-input-4-6ff7ff1ced9f>:18: calling reduce_sum_v1 (from tensorflow.python.ops.math_ops) with keep_dims is deprecated and will be removed in a future version.\n",
            "Instructions for updating:\n",
            "keep_dims is deprecated, use keepdims instead\n",
            "WARNING:tensorflow:From /usr/local/lib/python3.6/dist-packages/keras/backend/tensorflow_backend.py:4185: The name tf.truncated_normal is deprecated. Please use tf.random.truncated_normal instead.\n",
            "\n",
            "WARNING:tensorflow:From <ipython-input-4-6ff7ff1ced9f>:55: calling softmax (from tensorflow.python.ops.nn_ops) with dim is deprecated and will be removed in a future version.\n",
            "Instructions for updating:\n",
            "dim is deprecated, use axis instead\n",
            "WARNING:tensorflow:Variable += will be deprecated. Use variable.assign_add if you want assignment to the variable value or 'x = x + y' if you want a new python Tensor object.\n"
          ],
          "name": "stdout"
        }
      ]
    },
    {
      "cell_type": "code",
      "metadata": {
        "id": "AQPmCpbtzstB",
        "colab_type": "code",
        "colab": {}
      },
      "source": [
        "mask_input = Input(shape=(n_class, ))\n",
        "mask = MaskingLayer()([digit_capsule, mask_input])  # two inputs\n",
        "dec = Dense(512, activation='relu')(mask)\n",
        "dec = Dense(1024, activation='relu')(dec)\n",
        "dec = Dense(3072, activation='sigmoid')(dec)\n",
        "\n",
        "\n"
      ],
      "execution_count": 0,
      "outputs": []
    },
    {
      "cell_type": "code",
      "metadata": {
        "id": "W3SfiiV5zkp2",
        "colab_type": "code",
        "colab": {}
      },
      "source": [
        "dec = Reshape(input_shape)(dec)"
      ],
      "execution_count": 0,
      "outputs": []
    },
    {
      "cell_type": "code",
      "metadata": {
        "id": "fNIeyWY6zxaF",
        "colab_type": "code",
        "colab": {
          "base_uri": "https://localhost:8080/",
          "height": 51
        },
        "outputId": "ab8dc6a4-715f-436c-f434-3eac7b374b72"
      },
      "source": [
        "model = Model([x, mask_input], [output_capsule, dec])\n",
        "model.compile(optimizer='adam', loss=[ margin_loss, 'mae' ], metrics=[ margin_loss, 'mae', 'accuracy'])"
      ],
      "execution_count": 13,
      "outputs": [
        {
          "output_type": "stream",
          "text": [
            "WARNING:tensorflow:From /usr/local/lib/python3.6/dist-packages/keras/optimizers.py:790: The name tf.train.Optimizer is deprecated. Please use tf.compat.v1.train.Optimizer instead.\n",
            "\n"
          ],
          "name": "stdout"
        }
      ]
    },
    {
      "cell_type": "code",
      "metadata": {
        "id": "phBmMXC-zxb-",
        "colab_type": "code",
        "colab": {
          "base_uri": "https://localhost:8080/",
          "height": 700
        },
        "outputId": "5f7d3c46-92cb-481e-cf6d-cbaa34ef4354"
      },
      "source": [
        "model.fit([X, Y], [Y, X], batch_size=128, epochs=10, validation_split=0.2)\n",
        "\n",
        "\n"
      ],
      "execution_count": 14,
      "outputs": [
        {
          "output_type": "stream",
          "text": [
            "WARNING:tensorflow:From /tensorflow-1.15.2/python3.6/tensorflow_core/python/ops/math_grad.py:1424: where (from tensorflow.python.ops.array_ops) is deprecated and will be removed in a future version.\n",
            "Instructions for updating:\n",
            "Use tf.where in 2.0, which has the same broadcast rule as np.where\n",
            "WARNING:tensorflow:From /usr/local/lib/python3.6/dist-packages/keras/backend/tensorflow_backend.py:986: The name tf.assign_add is deprecated. Please use tf.compat.v1.assign_add instead.\n",
            "\n",
            "WARNING:tensorflow:From /usr/local/lib/python3.6/dist-packages/keras/backend/tensorflow_backend.py:973: The name tf.assign is deprecated. Please use tf.compat.v1.assign instead.\n",
            "\n",
            "WARNING:tensorflow:From /usr/local/lib/python3.6/dist-packages/keras/backend/tensorflow_backend.py:2741: The name tf.Session is deprecated. Please use tf.compat.v1.Session instead.\n",
            "\n",
            "Train on 48000 samples, validate on 12000 samples\n",
            "Epoch 1/10\n",
            "WARNING:tensorflow:From /usr/local/lib/python3.6/dist-packages/keras/backend/tensorflow_backend.py:174: The name tf.get_default_session is deprecated. Please use tf.compat.v1.get_default_session instead.\n",
            "\n",
            "WARNING:tensorflow:From /usr/local/lib/python3.6/dist-packages/keras/backend/tensorflow_backend.py:190: The name tf.global_variables is deprecated. Please use tf.compat.v1.global_variables instead.\n",
            "\n",
            "WARNING:tensorflow:From /usr/local/lib/python3.6/dist-packages/keras/backend/tensorflow_backend.py:199: The name tf.is_variable_initialized is deprecated. Please use tf.compat.v1.is_variable_initialized instead.\n",
            "\n",
            "WARNING:tensorflow:From /usr/local/lib/python3.6/dist-packages/keras/backend/tensorflow_backend.py:206: The name tf.variables_initializer is deprecated. Please use tf.compat.v1.variables_initializer instead.\n",
            "\n",
            "48000/48000 [==============================] - 4096s 85ms/step - loss: 0.6950 - output_capsule_loss: 0.5039 - reshape_1_loss: 0.1911 - output_capsule_margin_loss: 0.5039 - output_capsule_mean_absolute_error: 0.2825 - output_capsule_acc: 0.2367 - reshape_1_margin_loss: 3.8880 - reshape_1_mean_absolute_error: 0.1911 - reshape_1_acc: 0.5216 - val_loss: 0.6087 - val_output_capsule_loss: 0.4320 - val_reshape_1_loss: 0.1767 - val_output_capsule_margin_loss: 0.4320 - val_output_capsule_mean_absolute_error: 0.2525 - val_output_capsule_acc: 0.3576 - val_reshape_1_margin_loss: 3.7276 - val_reshape_1_mean_absolute_error: 0.1767 - val_reshape_1_acc: 0.5710\n",
            "Epoch 2/10\n",
            "48000/48000 [==============================] - 4076s 85ms/step - loss: 0.5710 - output_capsule_loss: 0.4008 - reshape_1_loss: 0.1701 - output_capsule_margin_loss: 0.4008 - output_capsule_mean_absolute_error: 0.2560 - output_capsule_acc: 0.4128 - reshape_1_margin_loss: 3.7471 - reshape_1_mean_absolute_error: 0.1701 - reshape_1_acc: 0.5646 - val_loss: 0.5364 - val_output_capsule_loss: 0.3740 - val_reshape_1_loss: 0.1625 - val_output_capsule_margin_loss: 0.3740 - val_output_capsule_mean_absolute_error: 0.2469 - val_output_capsule_acc: 0.4547 - val_reshape_1_margin_loss: 3.5236 - val_reshape_1_mean_absolute_error: 0.1625 - val_reshape_1_acc: 0.5795\n",
            "Epoch 3/10\n",
            "48000/48000 [==============================] - 4046s 84ms/step - loss: 0.5153 - output_capsule_loss: 0.3615 - reshape_1_loss: 0.1538 - output_capsule_margin_loss: 0.3615 - output_capsule_mean_absolute_error: 0.2460 - output_capsule_acc: 0.4871 - reshape_1_margin_loss: 3.6338 - reshape_1_mean_absolute_error: 0.1538 - reshape_1_acc: 0.5852 - val_loss: 0.4941 - val_output_capsule_loss: 0.3483 - val_reshape_1_loss: 0.1458 - val_output_capsule_margin_loss: 0.3483 - val_output_capsule_mean_absolute_error: 0.2419 - val_output_capsule_acc: 0.5066 - val_reshape_1_margin_loss: 3.6914 - val_reshape_1_mean_absolute_error: 0.1458 - val_reshape_1_acc: 0.5881\n",
            "Epoch 4/10\n",
            "48000/48000 [==============================] - 4043s 84ms/step - loss: 0.4819 - output_capsule_loss: 0.3362 - reshape_1_loss: 0.1457 - output_capsule_margin_loss: 0.3362 - output_capsule_mean_absolute_error: 0.2399 - output_capsule_acc: 0.5281 - reshape_1_margin_loss: 3.5806 - reshape_1_mean_absolute_error: 0.1457 - reshape_1_acc: 0.5946 - val_loss: 0.4846 - val_output_capsule_loss: 0.3352 - val_reshape_1_loss: 0.1494 - val_output_capsule_margin_loss: 0.3352 - val_output_capsule_mean_absolute_error: 0.2449 - val_output_capsule_acc: 0.5333 - val_reshape_1_margin_loss: 3.3565 - val_reshape_1_mean_absolute_error: 0.1494 - val_reshape_1_acc: 0.5973\n",
            "Epoch 5/10\n",
            "48000/48000 [==============================] - 4035s 84ms/step - loss: 0.4541 - output_capsule_loss: 0.3127 - reshape_1_loss: 0.1414 - output_capsule_margin_loss: 0.3127 - output_capsule_mean_absolute_error: 0.2331 - output_capsule_acc: 0.5726 - reshape_1_margin_loss: 3.5512 - reshape_1_mean_absolute_error: 0.1414 - reshape_1_acc: 0.5985 - val_loss: 0.4513 - val_output_capsule_loss: 0.3108 - val_reshape_1_loss: 0.1405 - val_output_capsule_margin_loss: 0.3108 - val_output_capsule_mean_absolute_error: 0.2291 - val_output_capsule_acc: 0.5728 - val_reshape_1_margin_loss: 3.6672 - val_reshape_1_mean_absolute_error: 0.1405 - val_reshape_1_acc: 0.6161\n",
            "Epoch 6/10\n",
            "48000/48000 [==============================] - 4059s 85ms/step - loss: 0.4299 - output_capsule_loss: 0.2924 - reshape_1_loss: 0.1375 - output_capsule_margin_loss: 0.2924 - output_capsule_mean_absolute_error: 0.2273 - output_capsule_acc: 0.6080 - reshape_1_margin_loss: 3.5303 - reshape_1_mean_absolute_error: 0.1375 - reshape_1_acc: 0.6035 - val_loss: 0.4351 - val_output_capsule_loss: 0.3009 - val_reshape_1_loss: 0.1342 - val_output_capsule_margin_loss: 0.3009 - val_output_capsule_mean_absolute_error: 0.2258 - val_output_capsule_acc: 0.5860 - val_reshape_1_margin_loss: 3.4230 - val_reshape_1_mean_absolute_error: 0.1342 - val_reshape_1_acc: 0.5950\n",
            "Epoch 7/10\n",
            "48000/48000 [==============================] - 4083s 85ms/step - loss: 0.4095 - output_capsule_loss: 0.2750 - reshape_1_loss: 0.1345 - output_capsule_margin_loss: 0.2750 - output_capsule_mean_absolute_error: 0.2225 - output_capsule_acc: 0.6375 - reshape_1_margin_loss: 3.5120 - reshape_1_mean_absolute_error: 0.1345 - reshape_1_acc: 0.6068 - val_loss: 0.4280 - val_output_capsule_loss: 0.2933 - val_reshape_1_loss: 0.1347 - val_output_capsule_margin_loss: 0.2933 - val_output_capsule_mean_absolute_error: 0.2267 - val_output_capsule_acc: 0.6032 - val_reshape_1_margin_loss: 3.5035 - val_reshape_1_mean_absolute_error: 0.1347 - val_reshape_1_acc: 0.6113\n",
            "Epoch 8/10\n",
            "48000/48000 [==============================] - 4066s 85ms/step - loss: 0.3909 - output_capsule_loss: 0.2588 - reshape_1_loss: 0.1322 - output_capsule_margin_loss: 0.2588 - output_capsule_mean_absolute_error: 0.2180 - output_capsule_acc: 0.6702 - reshape_1_margin_loss: 3.4968 - reshape_1_mean_absolute_error: 0.1322 - reshape_1_acc: 0.6097 - val_loss: 0.4309 - val_output_capsule_loss: 0.2971 - val_reshape_1_loss: 0.1339 - val_output_capsule_margin_loss: 0.2971 - val_output_capsule_mean_absolute_error: 0.2318 - val_output_capsule_acc: 0.6054 - val_reshape_1_margin_loss: 3.4768 - val_reshape_1_mean_absolute_error: 0.1339 - val_reshape_1_acc: 0.6212\n",
            "Epoch 9/10\n",
            "48000/48000 [==============================] - 4063s 85ms/step - loss: 0.3733 - output_capsule_loss: 0.2427 - reshape_1_loss: 0.1306 - output_capsule_margin_loss: 0.2427 - output_capsule_mean_absolute_error: 0.2138 - output_capsule_acc: 0.6986 - reshape_1_margin_loss: 3.4871 - reshape_1_mean_absolute_error: 0.1306 - reshape_1_acc: 0.6145 - val_loss: 0.4103 - val_output_capsule_loss: 0.2784 - val_reshape_1_loss: 0.1319 - val_output_capsule_margin_loss: 0.2784 - val_output_capsule_mean_absolute_error: 0.2194 - val_output_capsule_acc: 0.6308 - val_reshape_1_margin_loss: 3.4555 - val_reshape_1_mean_absolute_error: 0.1319 - val_reshape_1_acc: 0.6194\n",
            "Epoch 10/10\n",
            "48000/48000 [==============================] - 4060s 85ms/step - loss: 0.3552 - output_capsule_loss: 0.2263 - reshape_1_loss: 0.1289 - output_capsule_margin_loss: 0.2263 - output_capsule_mean_absolute_error: 0.2090 - output_capsule_acc: 0.7306 - reshape_1_margin_loss: 3.4774 - reshape_1_mean_absolute_error: 0.1289 - reshape_1_acc: 0.6177 - val_loss: 0.4203 - val_output_capsule_loss: 0.2824 - val_reshape_1_loss: 0.1379 - val_output_capsule_margin_loss: 0.2824 - val_output_capsule_mean_absolute_error: 0.2268 - val_output_capsule_acc: 0.6345 - val_reshape_1_margin_loss: 3.6981 - val_reshape_1_mean_absolute_error: 0.1379 - val_reshape_1_acc: 0.6004\n"
          ],
          "name": "stdout"
        },
        {
          "output_type": "execute_result",
          "data": {
            "text/plain": [
              "<keras.callbacks.History at 0x7f2b4c89dac8>"
            ]
          },
          "metadata": {
            "tags": []
          },
          "execution_count": 14
        }
      ]
    },
    {
      "cell_type": "code",
      "metadata": {
        "id": "VVBXpSuIzxYu",
        "colab_type": "code",
        "colab": {
          "base_uri": "https://localhost:8080/",
          "height": 595
        },
        "outputId": "2b82165f-c18e-41dc-c3fa-7327c07b7e36"
      },
      "source": [
        "model.save('CapsNet_Cifar10_routing3_RGB.h5.h5')\n",
        "model.summary()"
      ],
      "execution_count": 15,
      "outputs": [
        {
          "output_type": "stream",
          "text": [
            "__________________________________________________________________________________________________\n",
            "Layer (type)                    Output Shape         Param #     Connected to                     \n",
            "==================================================================================================\n",
            "input_1 (InputLayer)            (None, 32, 32, 3)    0                                            \n",
            "__________________________________________________________________________________________________\n",
            "conv1 (Conv2D)                  (None, 24, 24, 256)  62464       input_1[0][0]                    \n",
            "__________________________________________________________________________________________________\n",
            "conv2d_1 (Conv2D)               (None, 8, 8, 256)    5308672     conv1[0][0]                      \n",
            "__________________________________________________________________________________________________\n",
            "primary_capsule_reshape (Reshap (None, 2048, 8)      0           conv2d_1[0][0]                   \n",
            "__________________________________________________________________________________________________\n",
            "primary_capsule_squash (Lambda) (None, 2048, 8)      0           primary_capsule_reshape[0][0]    \n",
            "__________________________________________________________________________________________________\n",
            "digit_capsule (CapsuleLayer)    (None, 10, 16)       2641920     primary_capsule_squash[0][0]     \n",
            "__________________________________________________________________________________________________\n",
            "input_2 (InputLayer)            (None, 10)           0                                            \n",
            "__________________________________________________________________________________________________\n",
            "masking_layer_1 (MaskingLayer)  (None, 16)           0           digit_capsule[0][0]              \n",
            "                                                                 input_2[0][0]                    \n",
            "__________________________________________________________________________________________________\n",
            "dense_1 (Dense)                 (None, 512)          8704        masking_layer_1[0][0]            \n",
            "__________________________________________________________________________________________________\n",
            "dense_2 (Dense)                 (None, 1024)         525312      dense_1[0][0]                    \n",
            "__________________________________________________________________________________________________\n",
            "dense_3 (Dense)                 (None, 3072)         3148800     dense_2[0][0]                    \n",
            "__________________________________________________________________________________________________\n",
            "output_capsule (LengthLayer)    (None, 10)           0           digit_capsule[0][0]              \n",
            "__________________________________________________________________________________________________\n",
            "reshape_1 (Reshape)             (None, 32, 32, 3)    0           dense_3[0][0]                    \n",
            "==================================================================================================\n",
            "Total params: 11,695,872\n",
            "Trainable params: 11,675,392\n",
            "Non-trainable params: 20,480\n",
            "__________________________________________________________________________________________________\n"
          ],
          "name": "stdout"
        }
      ]
    }
  ]
}